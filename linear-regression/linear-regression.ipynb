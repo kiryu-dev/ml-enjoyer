{
 "cells": [
  {
   "attachments": {},
   "cell_type": "markdown",
   "metadata": {},
   "source": [
    "## Generate random sample (regression problem)"
   ]
  },
  {
   "cell_type": "code",
   "execution_count": 1,
   "metadata": {},
   "outputs": [],
   "source": [
    "import numpy as np\n",
    "import pandas as pd"
   ]
  },
  {
   "cell_type": "code",
   "execution_count": 2,
   "metadata": {},
   "outputs": [],
   "source": [
    "from sklearn.datasets import make_regression"
   ]
  },
  {
   "cell_type": "code",
   "execution_count": 3,
   "metadata": {},
   "outputs": [
    {
     "data": {
      "text/plain": [
       "array([[-0.75373616, -0.24538812, -0.81581028, -0.88951443],\n",
       "       [-0.2257763 ,  1.46564877, -1.42474819,  0.0675282 ],\n",
       "       [-0.64511975,  0.36163603,  1.53803657,  0.36139561],\n",
       "       [ 0.29698467,  0.52194157,  0.34644821,  0.25049285],\n",
       "       [-1.05771093, -0.01349722, -1.22084365,  0.82254491],\n",
       "       [ 0.15372511, -0.88385744, -1.1429703 ,  0.05820872],\n",
       "       [ 1.35624003,  0.81252582,  1.0035329 , -0.07201012],\n",
       "       [ 0.47359243, -1.06230371,  1.54993441, -0.91942423],\n",
       "       [-0.30921238, -0.83921752,  0.97554513,  0.33126343],\n",
       "       [-0.85715756,  0.62566735,  0.48247242, -1.0708925 ],\n",
       "       [ 0.17136828,  0.73846658, -0.3011037 , -0.11564828],\n",
       "       [ 0.41278093,  0.96337613,  1.89679298,  0.82206016],\n",
       "       [ 0.34115197, -0.07710171,  0.82718325,  0.2766908 ],\n",
       "       [ 0.11092259, -0.54438272,  0.37569802, -1.15099358],\n",
       "       [-0.29169375, -0.60063869,  1.85227818, -0.60170661],\n",
       "       [-0.32766215, -0.70205309, -1.46351495, -0.39210815],\n",
       "       [-1.76304016,  0.34361829, -0.38508228,  0.32408397],\n",
       "       [ 0.26105527,  0.29612028, -0.23458713,  0.00511346],\n",
       "       [-0.1382643 ,  0.49671415,  1.52302986,  0.64768854],\n",
       "       [ 1.56464366, -0.03582604,  0.8219025 , -2.6197451 ],\n",
       "       [ 0.40405086, -0.16128571,  0.17457781,  1.8861859 ],\n",
       "       [-0.29900735,  0.08704707, -1.98756891,  0.09176078],\n",
       "       [-0.23413696, -0.23415337,  0.76743473,  1.57921282],\n",
       "       [-1.91328024,  0.24196227, -0.56228753, -1.72491783],\n",
       "       [-0.90938745,  0.79103195, -1.40185106,  1.40279431],\n",
       "       [ 1.45353408,  0.01300189,  2.72016917, -0.26465683],\n",
       "       [-1.95967012,  0.2088636 ,  0.19686124, -1.32818605],\n",
       "       [-0.32206152, -0.78325329, -1.23086432,  0.81351722],\n",
       "       [ 0.51326743, -0.5297602 ,  0.96864499,  0.09707755],\n",
       "       [ 0.2322537 , -0.68002472, -0.71435142,  0.29307247],\n",
       "       [ 2.19045563,  0.58685709, -0.56629773, -0.99053633],\n",
       "       [ 0.47383292,  1.86577451,  0.65655361, -1.1913035 ],\n",
       "       [-0.50347565,  0.09965137,  0.06856297, -1.55066343],\n",
       "       [ 0.35711257, -0.21967189, -0.51827022,  1.47789404],\n",
       "       [ 1.30714275,  0.22745993,  0.18463386, -1.60748323],\n",
       "       [-1.51484722, -0.84679372,  0.85639879, -0.44651495],\n",
       "       [ 0.71400049, -0.22346279, -0.07282891,  0.47323762],\n",
       "       [-1.24573878,  0.21409374,  0.38531738,  0.17318093],\n",
       "       [ 0.7870846 , -0.97468167, -0.82068232,  1.15859558],\n",
       "       [-1.16867804, -0.03471177,  0.75193303,  1.14282281],\n",
       "       [ 0.31424733, -1.01283112, -1.4123037 , -0.90802408],\n",
       "       [-0.07444592,  0.25755039, -0.02651388, -1.91877122],\n",
       "       [ 0.61167629, -0.676922  ,  0.93128012,  1.03099952],\n",
       "       [ 2.46324211,  0.06023021,  0.30154734, -0.19236096],\n",
       "       [-0.50175704, -0.8084936 ,  0.32875111,  0.91540212],\n",
       "       [ 0.78182287,  0.25988279, -1.32045661, -1.23695071],\n",
       "       [-0.18565898, -0.47917424, -1.19620662, -1.10633497],\n",
       "       [-0.42064532, -1.41537074, -0.80227727, -0.34271452],\n",
       "       [-0.71984421, -1.47852199,  1.05712223, -0.46063877],\n",
       "       [ 0.54256004, -0.46947439, -0.46572975, -0.46341769]])"
      ]
     },
     "metadata": {},
     "output_type": "display_data"
    },
    {
     "data": {
      "text/plain": [
       "array([-201.42348529,   55.01512109,   98.50233564,  108.44325693,\n",
       "        -98.42574697, -132.06975033,  260.37878851,  -11.46177441,\n",
       "         -9.76972843,  -45.30132996,   45.11987851,  302.30210595,\n",
       "         89.36756994,  -87.67084818,   25.22917392, -226.78603055,\n",
       "       -112.6428451 ,   22.04295716,  171.69681701,   -5.23980118,\n",
       "        152.21031897, -163.86709178,  116.71831939, -275.09211067,\n",
       "         22.77705068,  299.10909296, -199.07464079, -128.95853436,\n",
       "         66.99653404,  -67.16347752,  111.26707471,  170.54175622,\n",
       "       -152.07142206,   69.06492335,   26.23621154, -148.29405234,\n",
       "         48.54534548,  -13.13593296,  -16.10984285,   36.34512573,\n",
       "       -222.93693663, -116.35728776,  120.8347961 ,  195.98475913,\n",
       "        -10.31492204, -106.18619309, -216.12065089, -228.79136805,\n",
       "       -133.30173933,  -60.86663698])"
      ]
     },
     "metadata": {},
     "output_type": "display_data"
    }
   ],
   "source": [
    "X, y, coeffs = make_regression(n_samples=50, n_features=4, n_informative=4, noise=10, coef=True, random_state=42)\n",
    "display(X, y)"
   ]
  },
  {
   "cell_type": "code",
   "execution_count": 4,
   "metadata": {},
   "outputs": [
    {
     "data": {
      "text/plain": [
       "array([74.07686178, 87.73730719, 70.2484084 , 69.7015741 ])"
      ]
     },
     "execution_count": 4,
     "metadata": {},
     "output_type": "execute_result"
    }
   ],
   "source": [
    "coeffs"
   ]
  },
  {
   "cell_type": "code",
   "execution_count": 5,
   "metadata": {},
   "outputs": [
    {
     "data": {
      "text/plain": [
       "((50, 4), (4,))"
      ]
     },
     "execution_count": 5,
     "metadata": {},
     "output_type": "execute_result"
    }
   ],
   "source": [
    "X.shape, coeffs.shape"
   ]
  },
  {
   "attachments": {},
   "cell_type": "markdown",
   "metadata": {},
   "source": [
    "## Create gradient descent class"
   ]
  },
  {
   "cell_type": "code",
   "execution_count": 6,
   "metadata": {},
   "outputs": [],
   "source": [
    "def calculate_matrix_loss(X: np.ndarray, w: np.ndarray, y: np.ndarray) -> float:\n",
    "        return np.sum(np.power((y - (X @ w)), 2)) / 2\n",
    "\n",
    "class GradientDescent:\n",
    "    def __init__(self, dimension: int, learning_rate: float = 1e-2, iteration: int = 10000, eps: float = 1e-4) -> None:\n",
    "        self.w: np.ndarray = np.random.rand(dimension)\n",
    "        self.learning_rate: float = learning_rate\n",
    "        self.iteration: int = iteration\n",
    "        self.eps: float = eps\n",
    "\n",
    "    def calc_gradient(self, X: np.ndarray, y: np.ndarray) -> float:\n",
    "        return (y - (X @ self.w)) @ (-X)\n",
    "\n",
    "    def update_weights(self, X: np.ndarray, y: np.ndarray) -> np.ndarray:\n",
    "        return self.w - self.learning_rate * self.calc_gradient(X, y)\n",
    "\n",
    "    def run(self, X: np.ndarray, y: np.ndarray) -> tuple:\n",
    "        next_w = self.w\n",
    "        logs = pd.DataFrame(columns=['current-weights', 'next-weights', 'loss'])\n",
    "        for i in np.arange(self.iteration):\n",
    "            self.w = next_w\n",
    "            next_w = self.update_weights(X, y)\n",
    "            log = pd.DataFrame([[self.w, next_w, calculate_matrix_loss(X, self.w, y)]], columns=['current-weights', 'next-weights', 'loss'])\n",
    "            logs = pd.concat([logs, log], sort=False, ignore_index=True)\n",
    "            if np.linalg.norm(self.w - next_w, ord=2) <= self.eps:\n",
    "                break\n",
    "        return (self.w, logs)"
   ]
  },
  {
   "attachments": {},
   "cell_type": "markdown",
   "metadata": {},
   "source": [
    "## Create linear regression class"
   ]
  },
  {
   "cell_type": "code",
   "execution_count": 7,
   "metadata": {},
   "outputs": [],
   "source": [
    "class LinearRegression:\n",
    "    def __init__(self, iteration: int = 10000, eps: float = 1e-4) -> None:\n",
    "        self.iteration: int = iteration\n",
    "        self.eps: float = eps\n",
    "        self.w = None\n",
    "        self.logs = None\n",
    "        self.loss: float = 0\n",
    "\n",
    "    def fit(self, X: np.ndarray, y: np.ndarray) -> None:\n",
    "        # add a dummy feature\n",
    "        X = np.column_stack([X, np.ones(X.shape[0])])\n",
    "        descent = GradientDescent(dimension=X.shape[1], learning_rate=1e-2, iteration=self.iteration, eps=self.eps)\n",
    "        self.w, self.logs = descent.run(X, y)\n",
    "        self.loss = calculate_matrix_loss(X, self.w, y)\n",
    "    \n",
    "    def predict(self, X: np.ndarray) -> np.ndarray:\n",
    "        return X @ self.w[:-1] + self.w[-1]\n",
    "        \n",
    "               "
   ]
  },
  {
   "attachments": {},
   "cell_type": "markdown",
   "metadata": {},
   "source": [
    "## Split and train data"
   ]
  },
  {
   "cell_type": "code",
   "execution_count": 8,
   "metadata": {},
   "outputs": [],
   "source": [
    "from sklearn.model_selection import train_test_split"
   ]
  },
  {
   "cell_type": "code",
   "execution_count": 9,
   "metadata": {},
   "outputs": [],
   "source": [
    "X_train, X_test, y_train, y_test = train_test_split(X, y, test_size=0.2, random_state=42)"
   ]
  },
  {
   "cell_type": "code",
   "execution_count": 10,
   "metadata": {},
   "outputs": [],
   "source": [
    "regressor = LinearRegression()\n",
    "regressor.fit(X_train, y_train)\n"
   ]
  },
  {
   "cell_type": "code",
   "execution_count": 11,
   "metadata": {},
   "outputs": [
    {
     "data": {
      "text/html": [
       "<div>\n",
       "<style scoped>\n",
       "    .dataframe tbody tr th:only-of-type {\n",
       "        vertical-align: middle;\n",
       "    }\n",
       "\n",
       "    .dataframe tbody tr th {\n",
       "        vertical-align: top;\n",
       "    }\n",
       "\n",
       "    .dataframe thead th {\n",
       "        text-align: right;\n",
       "    }\n",
       "</style>\n",
       "<table border=\"1\" class=\"dataframe\">\n",
       "  <thead>\n",
       "    <tr style=\"text-align: right;\">\n",
       "      <th></th>\n",
       "      <th>current-weights</th>\n",
       "      <th>next-weights</th>\n",
       "      <th>loss</th>\n",
       "    </tr>\n",
       "  </thead>\n",
       "  <tbody>\n",
       "    <tr>\n",
       "      <th>53</th>\n",
       "      <td>[73.55055177489103, 91.86258943841949, 68.7428...</td>\n",
       "      <td>[73.55058104033243, 91.86278420081076, 68.7427...</td>\n",
       "      <td>2305.121938</td>\n",
       "    </tr>\n",
       "    <tr>\n",
       "      <th>54</th>\n",
       "      <td>[73.55058104033243, 91.86278420081076, 68.7427...</td>\n",
       "      <td>[73.55060462809575, 91.86294141866138, 68.7427...</td>\n",
       "      <td>2305.121934</td>\n",
       "    </tr>\n",
       "    <tr>\n",
       "      <th>55</th>\n",
       "      <td>[73.55060462809575, 91.86294141866138, 68.7427...</td>\n",
       "      <td>[73.55062364191446, 91.86306832898799, 68.7427...</td>\n",
       "      <td>2305.121931</td>\n",
       "    </tr>\n",
       "    <tr>\n",
       "      <th>56</th>\n",
       "      <td>[73.55062364191446, 91.86306832898799, 68.7427...</td>\n",
       "      <td>[73.5506389703862, 91.86317077393883, 68.74267...</td>\n",
       "      <td>2305.121930</td>\n",
       "    </tr>\n",
       "    <tr>\n",
       "      <th>57</th>\n",
       "      <td>[73.5506389703862, 91.86317077393883, 68.74267...</td>\n",
       "      <td>[73.55065132905273, 91.86325346960889, 68.7426...</td>\n",
       "      <td>2305.121929</td>\n",
       "    </tr>\n",
       "  </tbody>\n",
       "</table>\n",
       "</div>"
      ],
      "text/plain": [
       "                                      current-weights  \\\n",
       "53  [73.55055177489103, 91.86258943841949, 68.7428...   \n",
       "54  [73.55058104033243, 91.86278420081076, 68.7427...   \n",
       "55  [73.55060462809575, 91.86294141866138, 68.7427...   \n",
       "56  [73.55062364191446, 91.86306832898799, 68.7427...   \n",
       "57  [73.5506389703862, 91.86317077393883, 68.74267...   \n",
       "\n",
       "                                         next-weights         loss  \n",
       "53  [73.55058104033243, 91.86278420081076, 68.7427...  2305.121938  \n",
       "54  [73.55060462809575, 91.86294141866138, 68.7427...  2305.121934  \n",
       "55  [73.55062364191446, 91.86306832898799, 68.7427...  2305.121931  \n",
       "56  [73.5506389703862, 91.86317077393883, 68.74267...  2305.121930  \n",
       "57  [73.55065132905273, 91.86325346960889, 68.7426...  2305.121929  "
      ]
     },
     "execution_count": 11,
     "metadata": {},
     "output_type": "execute_result"
    }
   ],
   "source": [
    "regressor.logs.tail(5)"
   ]
  },
  {
   "attachments": {},
   "cell_type": "markdown",
   "metadata": {},
   "source": [
    "## Prediction wooooah"
   ]
  },
  {
   "cell_type": "code",
   "execution_count": 12,
   "metadata": {},
   "outputs": [
    {
     "name": "stdout",
     "output_type": "stream",
     "text": [
      "Prediction: [ -91.37481161   41.43945137  111.5299893   -90.52563614   32.66790489\n",
      " -145.02581286 -198.68155497  279.34465243 -125.39002792   -5.82709649]\n",
      "Original: [ -87.67084818   36.34512573  111.26707471 -106.18619309   22.04295716\n",
      " -133.30173933 -199.07464079  299.10909296 -152.07142206   -5.23980118]\n",
      "Loss: 2305.1219287501026\n",
      "Original weights: [74.07686178 87.73730719 70.2484084  69.7015741 ]\n",
      "Calculated weights: [73.55063897 91.86317077 68.7426791  67.24440303  2.04687192]\n"
     ]
    }
   ],
   "source": [
    "prediction, loss, weights = regressor.predict(X_test), regressor.loss, regressor.w\n",
    "print(f\"Prediction: {prediction}\\nOriginal: {y_test}\\nLoss: {loss}\\nOriginal weights: {coeffs}\\nCalculated weights: {weights}\")"
   ]
  },
  {
   "attachments": {},
   "cell_type": "markdown",
   "metadata": {},
   "source": [
    "## one feature test"
   ]
  },
  {
   "cell_type": "code",
   "execution_count": 13,
   "metadata": {},
   "outputs": [
    {
     "data": {
      "text/plain": [
       "array([[ 0.93128012],\n",
       "       [ 0.08704707],\n",
       "       [-1.05771093],\n",
       "       [ 0.31424733],\n",
       "       [-0.47917424],\n",
       "       [ 0.64768854],\n",
       "       [-0.46341769],\n",
       "       [ 0.54256004],\n",
       "       [ 0.61167629],\n",
       "       [ 1.0035329 ],\n",
       "       [ 0.8219025 ],\n",
       "       [ 1.53803657],\n",
       "       [ 0.73846658],\n",
       "       [-0.21967189],\n",
       "       [-0.8084936 ],\n",
       "       [ 0.09176078],\n",
       "       [-1.95967012],\n",
       "       [ 0.51326743],\n",
       "       [ 1.03099952],\n",
       "       [-2.6197451 ],\n",
       "       [ 0.49671415],\n",
       "       [ 0.09707755],\n",
       "       [-0.46572975],\n",
       "       [ 0.91540212],\n",
       "       [ 1.56464366],\n",
       "       [ 1.46564877],\n",
       "       [-0.60063869],\n",
       "       [-0.03582604],\n",
       "       [-0.60170661],\n",
       "       [-1.19620662],\n",
       "       [ 0.35711257],\n",
       "       [ 0.37569802],\n",
       "       [ 0.26105527],\n",
       "       [-0.5297602 ],\n",
       "       [-0.90802408],\n",
       "       [ 0.19686124],\n",
       "       [-0.29900735],\n",
       "       [ 0.36163603],\n",
       "       [ 0.82254491],\n",
       "       [-0.29169375],\n",
       "       [ 0.36139561],\n",
       "       [-0.676922  ],\n",
       "       [ 1.52302986],\n",
       "       [-0.51827022],\n",
       "       [-0.23415337],\n",
       "       [-0.39210815],\n",
       "       [-0.3011037 ],\n",
       "       [-0.64511975],\n",
       "       [ 0.32875111],\n",
       "       [ 0.2088636 ],\n",
       "       [-0.32766215],\n",
       "       [ 0.00511346],\n",
       "       [-0.23413696],\n",
       "       [ 1.47789404],\n",
       "       [-0.38508228],\n",
       "       [ 0.34361829],\n",
       "       [ 0.33126343],\n",
       "       [-0.18565898],\n",
       "       [-0.23458713],\n",
       "       [-1.98756891],\n",
       "       [ 0.32408397],\n",
       "       [-0.2257763 ],\n",
       "       [-1.10633497],\n",
       "       [-0.70205309],\n",
       "       [-1.46351495],\n",
       "       [ 0.96864499],\n",
       "       [-1.72491783],\n",
       "       [-1.91328024],\n",
       "       [-0.56228753],\n",
       "       [ 0.76743473],\n",
       "       [ 0.81252582],\n",
       "       [-1.4123037 ],\n",
       "       [-1.47852199],\n",
       "       [-1.22084365],\n",
       "       [-0.83921752],\n",
       "       [ 1.57921282],\n",
       "       [ 0.97554513],\n",
       "       [ 0.24196227],\n",
       "       [ 0.29612028],\n",
       "       [-0.54438272],\n",
       "       [-1.76304016],\n",
       "       [ 0.11092259],\n",
       "       [ 0.17136828],\n",
       "       [-1.32818605],\n",
       "       [ 1.05712223],\n",
       "       [-0.11564828],\n",
       "       [-0.46947439],\n",
       "       [-0.01349722],\n",
       "       [-1.01283112],\n",
       "       [-0.1382643 ],\n",
       "       [-1.15099358],\n",
       "       [ 1.35624003],\n",
       "       [ 0.0675282 ],\n",
       "       [-0.50175704],\n",
       "       [-0.46063877],\n",
       "       [ 1.85227818],\n",
       "       [-1.42474819],\n",
       "       [-0.71984421],\n",
       "       [-0.07201012],\n",
       "       [-0.30921238]])"
      ]
     },
     "metadata": {},
     "output_type": "display_data"
    },
    {
     "data": {
      "text/plain": [
       "array([  50.77992943,  -10.06527016,  -34.91839191,   10.52674299,\n",
       "        -17.73837724,   31.56459551,  -30.06888275,    5.91200699,\n",
       "         23.47337416,   32.34359474,   35.76573341,   76.88323383,\n",
       "         36.18776792,    2.9244734 ,  -47.81146525,   12.61693126,\n",
       "        -85.45418019,   20.05162924,   28.63464002, -118.02745409,\n",
       "         16.77823077,    2.81079984,  -29.36593416,   28.57973536,\n",
       "         74.71530364,   64.57600193,  -11.01926675,    2.74944415,\n",
       "        -33.92230425,  -62.09952962,   20.28587171,   29.52220586,\n",
       "          5.76708113,  -21.69297316,  -43.6490161 ,   -4.01153077,\n",
       "        -20.19870331,    7.58329135,   51.39997923,    1.74763946,\n",
       "         22.78482382,  -31.5003787 ,   61.91233294,  -20.69551487,\n",
       "         -7.6244312 ,   -5.91131407,  -14.17777333,  -38.23228892,\n",
       "         23.49423306,    8.80963973,   -5.90648058,    7.31453371,\n",
       "        -29.99628354,   89.03314517,    9.31786907,   24.7816116 ,\n",
       "         20.00370858,    0.72440436,   -8.86713635,  -85.35925853,\n",
       "         27.16648672,   -9.49795271,  -44.43130901,  -33.82909094,\n",
       "        -64.51014139,   47.8357159 ,  -78.59179131,  -84.18851543,\n",
       "        -23.43112712,   46.0731574 ,   44.40919578,  -63.16609268,\n",
       "        -65.59777871,  -42.22346311,  -22.03589468,   56.48751247,\n",
       "         52.89103498,   11.12324828,    3.09992   ,  -30.47649497,\n",
       "        -68.32675437,   12.3614395 ,   -1.9938087 ,  -48.94907978,\n",
       "         49.68666288,    1.3781956 ,  -19.78188548,   -5.49771383,\n",
       "        -37.4991444 ,   -8.66267263,  -56.06201681,   69.8620077 ,\n",
       "         10.49166995,  -21.28918765,  -22.79501941,   78.085079  ,\n",
       "        -70.96848274,  -38.90221305,    4.33922894,  -21.57832636])"
      ]
     },
     "metadata": {},
     "output_type": "display_data"
    }
   ],
   "source": [
    "X, y, coeffs = make_regression(n_samples=100, n_features=1, n_informative=1, noise=10, coef=True, random_state=42)\n",
    "display(X, y)"
   ]
  },
  {
   "cell_type": "code",
   "execution_count": 14,
   "metadata": {},
   "outputs": [
    {
     "data": {
      "text/plain": [
       "((100, 1), (100,))"
      ]
     },
     "execution_count": 14,
     "metadata": {},
     "output_type": "execute_result"
    }
   ],
   "source": [
    "X.shape, y.shape"
   ]
  },
  {
   "cell_type": "code",
   "execution_count": 15,
   "metadata": {},
   "outputs": [
    {
     "data": {
      "text/plain": [
       "array(41.74110031)"
      ]
     },
     "execution_count": 15,
     "metadata": {},
     "output_type": "execute_result"
    }
   ],
   "source": [
    "coeffs"
   ]
  },
  {
   "cell_type": "code",
   "execution_count": 16,
   "metadata": {},
   "outputs": [],
   "source": [
    "X_train, X_test, y_train, y_test = train_test_split(X, y, test_size=0.2, random_state=42)"
   ]
  },
  {
   "cell_type": "code",
   "execution_count": 17,
   "metadata": {},
   "outputs": [],
   "source": [
    "regressor = LinearRegression()\n",
    "regressor.fit(X_train, y_train)"
   ]
  },
  {
   "cell_type": "code",
   "execution_count": 18,
   "metadata": {},
   "outputs": [
    {
     "data": {
      "text/html": [
       "<div>\n",
       "<style scoped>\n",
       "    .dataframe tbody tr th:only-of-type {\n",
       "        vertical-align: middle;\n",
       "    }\n",
       "\n",
       "    .dataframe tbody tr th {\n",
       "        vertical-align: top;\n",
       "    }\n",
       "\n",
       "    .dataframe thead th {\n",
       "        text-align: right;\n",
       "    }\n",
       "</style>\n",
       "<table border=\"1\" class=\"dataframe\">\n",
       "  <thead>\n",
       "    <tr style=\"text-align: right;\">\n",
       "      <th></th>\n",
       "      <th>current-weights</th>\n",
       "      <th>next-weights</th>\n",
       "      <th>loss</th>\n",
       "    </tr>\n",
       "  </thead>\n",
       "  <tbody>\n",
       "    <tr>\n",
       "      <th>10</th>\n",
       "      <td>[44.241552997378484, 0.09778803574499745]</td>\n",
       "      <td>[44.243160292010295, 0.09866477618256542]</td>\n",
       "      <td>2916.901389</td>\n",
       "    </tr>\n",
       "    <tr>\n",
       "      <th>11</th>\n",
       "      <td>[44.243160292010295, 0.09866477618256542]</td>\n",
       "      <td>[44.24378499016506, 0.0990055527461767]</td>\n",
       "      <td>2916.901157</td>\n",
       "    </tr>\n",
       "    <tr>\n",
       "      <th>12</th>\n",
       "      <td>[44.24378499016506, 0.0990055527461767]</td>\n",
       "      <td>[44.24402779001391, 0.09913800421326797]</td>\n",
       "      <td>2916.901121</td>\n",
       "    </tr>\n",
       "    <tr>\n",
       "      <th>13</th>\n",
       "      <td>[44.24402779001391, 0.09913800421326797]</td>\n",
       "      <td>[44.244122158694175, 0.09918948433008115]</td>\n",
       "      <td>2916.901116</td>\n",
       "    </tr>\n",
       "    <tr>\n",
       "      <th>14</th>\n",
       "      <td>[44.244122158694175, 0.09918948433008115]</td>\n",
       "      <td>[44.24415883687819, 0.09920949311341834]</td>\n",
       "      <td>2916.901115</td>\n",
       "    </tr>\n",
       "  </tbody>\n",
       "</table>\n",
       "</div>"
      ],
      "text/plain": [
       "                              current-weights  \\\n",
       "10  [44.241552997378484, 0.09778803574499745]   \n",
       "11  [44.243160292010295, 0.09866477618256542]   \n",
       "12    [44.24378499016506, 0.0990055527461767]   \n",
       "13   [44.24402779001391, 0.09913800421326797]   \n",
       "14  [44.244122158694175, 0.09918948433008115]   \n",
       "\n",
       "                                 next-weights         loss  \n",
       "10  [44.243160292010295, 0.09866477618256542]  2916.901389  \n",
       "11    [44.24378499016506, 0.0990055527461767]  2916.901157  \n",
       "12   [44.24402779001391, 0.09913800421326797]  2916.901121  \n",
       "13  [44.244122158694175, 0.09918948433008115]  2916.901116  \n",
       "14   [44.24415883687819, 0.09920949311341834]  2916.901115  "
      ]
     },
     "execution_count": 18,
     "metadata": {},
     "output_type": "execute_result"
    }
   ],
   "source": [
    "regressor.logs.tail(5)"
   ]
  },
  {
   "cell_type": "code",
   "execution_count": 19,
   "metadata": {},
   "outputs": [
    {
     "name": "stdout",
     "output_type": "stream",
     "text": [
      "Prediction: [-58.66523631  65.48731414  36.04868123 -17.24929154 -10.26072103\n",
      " -12.80654441 -20.50661463 -77.90497452  36.46354429  41.30286084\n",
      "  45.7148583   15.89932172 -53.9159661  -23.33958569 -50.82551096\n",
      " -21.10145403  43.26132726  10.80459779  32.77199506  16.7216185 ]\n",
      "Original: [-48.94907978  89.03314517  44.40919578  -5.91131407  -7.6244312\n",
      "   1.74763946 -29.36593416 -68.32675437  35.76573341  50.77992943\n",
      "  28.63464002  20.28587171 -42.22346311 -21.69297316 -56.06201681\n",
      " -17.73837724  52.89103498  11.12324828  36.18776792  29.52220586]\n",
      "Loss: 2916.901115384092\n",
      "Original weights: 41.7411003148779\n",
      "Calculated weights: [44.24412216  0.09918948]\n"
     ]
    }
   ],
   "source": [
    "prediction, loss, weights = regressor.predict(X_test), regressor.loss, regressor.w\n",
    "print(f\"Prediction: {prediction}\\nOriginal: {y_test}\\nLoss: {loss}\\nOriginal weights: {coeffs}\\nCalculated weights: {weights}\")"
   ]
  },
  {
   "cell_type": "code",
   "execution_count": 33,
   "metadata": {},
   "outputs": [],
   "source": [
    "import matplotlib\n",
    "import matplotlib.pyplot as plt\n",
    "\n",
    "matplotlib.rc(\"font\", size=18)\n",
    "plt.rcParams[\"figure.figsize\"] = (20, 8)"
   ]
  },
  {
   "cell_type": "code",
   "execution_count": 24,
   "metadata": {},
   "outputs": [],
   "source": [
    "y_pred = X @ weights[:-1] + weights[-1]"
   ]
  },
  {
   "cell_type": "code",
   "execution_count": 34,
   "metadata": {},
   "outputs": [
    {
     "data": {
      "text/plain": [
       "Text(0.5, 1.0, 'Linear regression')"
      ]
     },
     "execution_count": 34,
     "metadata": {},
     "output_type": "execute_result"
    },
    {
     "data": {
      "image/png": "[encoded data removed]",
      "text/plain": [
       "<Figure size 2000x800 with 1 Axes>"
      ]
     },
     "metadata": {},
     "output_type": "display_data"
    }
   ],
   "source": [
    "plt.scatter(X_train, y_train)\n",
    "plt.scatter(X_test, y_test, color=\"red\")\n",
    "plt.plot(X, y_pred, color=\"purple\")\n",
    "plt.grid()\n",
    "plt.title('Linear regression')"
   ]
  }
 ],
 "metadata": {
  "kernelspec": {
   "display_name": "Python 3",
   "language": "python",
   "name": "python3"
  },
  "language_info": {
   "codemirror_mode": {
    "name": "ipython",
    "version": 3
   },
   "file_extension": ".py",
   "mimetype": "text/x-python",
   "name": "python",
   "nbconvert_exporter": "python",
   "pygments_lexer": "ipython3",
   "version": "3.10.6"
  },
  "orig_nbformat": 4,
  "vscode": {
   "interpreter": {
    "hash": "916dbcbb3f70747c44a77c7bcd40155683ae19c65e1c03b4aa3499c5328201f1"
   }
  }
 },
 "nbformat": 4,
 "nbformat_minor": 2
}
