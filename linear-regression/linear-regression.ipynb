{
 "cells": [
  {
   "attachments": {},
   "cell_type": "markdown",
   "metadata": {},
   "source": [
    "## Generate random sample (regression problem)"
   ]
  },
  {
   "cell_type": "code",
   "execution_count": 1,
   "metadata": {},
   "outputs": [],
   "source": [
    "import numpy as np\n",
    "import pandas as pd"
   ]
  },
  {
   "cell_type": "code",
   "execution_count": 2,
   "metadata": {},
   "outputs": [],
   "source": [
    "from sklearn.datasets import make_regression"
   ]
  },
  {
   "cell_type": "code",
   "execution_count": 3,
   "metadata": {},
   "outputs": [
    {
     "data": {
      "text/plain": [
       "array([[-0.75373616, -0.24538812, -0.81581028, -0.88951443],\n",
       "       [-0.2257763 ,  1.46564877, -1.42474819,  0.0675282 ],\n",
       "       [-0.64511975,  0.36163603,  1.53803657,  0.36139561],\n",
       "       [ 0.29698467,  0.52194157,  0.34644821,  0.25049285],\n",
       "       [-1.05771093, -0.01349722, -1.22084365,  0.82254491],\n",
       "       [ 0.15372511, -0.88385744, -1.1429703 ,  0.05820872],\n",
       "       [ 1.35624003,  0.81252582,  1.0035329 , -0.07201012],\n",
       "       [ 0.47359243, -1.06230371,  1.54993441, -0.91942423],\n",
       "       [-0.30921238, -0.83921752,  0.97554513,  0.33126343],\n",
       "       [-0.85715756,  0.62566735,  0.48247242, -1.0708925 ],\n",
       "       [ 0.17136828,  0.73846658, -0.3011037 , -0.11564828],\n",
       "       [ 0.41278093,  0.96337613,  1.89679298,  0.82206016],\n",
       "       [ 0.34115197, -0.07710171,  0.82718325,  0.2766908 ],\n",
       "       [ 0.11092259, -0.54438272,  0.37569802, -1.15099358],\n",
       "       [-0.29169375, -0.60063869,  1.85227818, -0.60170661],\n",
       "       [-0.32766215, -0.70205309, -1.46351495, -0.39210815],\n",
       "       [-1.76304016,  0.34361829, -0.38508228,  0.32408397],\n",
       "       [ 0.26105527,  0.29612028, -0.23458713,  0.00511346],\n",
       "       [-0.1382643 ,  0.49671415,  1.52302986,  0.64768854],\n",
       "       [ 1.56464366, -0.03582604,  0.8219025 , -2.6197451 ],\n",
       "       [ 0.40405086, -0.16128571,  0.17457781,  1.8861859 ],\n",
       "       [-0.29900735,  0.08704707, -1.98756891,  0.09176078],\n",
       "       [-0.23413696, -0.23415337,  0.76743473,  1.57921282],\n",
       "       [-1.91328024,  0.24196227, -0.56228753, -1.72491783],\n",
       "       [-0.90938745,  0.79103195, -1.40185106,  1.40279431],\n",
       "       [ 1.45353408,  0.01300189,  2.72016917, -0.26465683],\n",
       "       [-1.95967012,  0.2088636 ,  0.19686124, -1.32818605],\n",
       "       [-0.32206152, -0.78325329, -1.23086432,  0.81351722],\n",
       "       [ 0.51326743, -0.5297602 ,  0.96864499,  0.09707755],\n",
       "       [ 0.2322537 , -0.68002472, -0.71435142,  0.29307247],\n",
       "       [ 2.19045563,  0.58685709, -0.56629773, -0.99053633],\n",
       "       [ 0.47383292,  1.86577451,  0.65655361, -1.1913035 ],\n",
       "       [-0.50347565,  0.09965137,  0.06856297, -1.55066343],\n",
       "       [ 0.35711257, -0.21967189, -0.51827022,  1.47789404],\n",
       "       [ 1.30714275,  0.22745993,  0.18463386, -1.60748323],\n",
       "       [-1.51484722, -0.84679372,  0.85639879, -0.44651495],\n",
       "       [ 0.71400049, -0.22346279, -0.07282891,  0.47323762],\n",
       "       [-1.24573878,  0.21409374,  0.38531738,  0.17318093],\n",
       "       [ 0.7870846 , -0.97468167, -0.82068232,  1.15859558],\n",
       "       [-1.16867804, -0.03471177,  0.75193303,  1.14282281],\n",
       "       [ 0.31424733, -1.01283112, -1.4123037 , -0.90802408],\n",
       "       [-0.07444592,  0.25755039, -0.02651388, -1.91877122],\n",
       "       [ 0.61167629, -0.676922  ,  0.93128012,  1.03099952],\n",
       "       [ 2.46324211,  0.06023021,  0.30154734, -0.19236096],\n",
       "       [-0.50175704, -0.8084936 ,  0.32875111,  0.91540212],\n",
       "       [ 0.78182287,  0.25988279, -1.32045661, -1.23695071],\n",
       "       [-0.18565898, -0.47917424, -1.19620662, -1.10633497],\n",
       "       [-0.42064532, -1.41537074, -0.80227727, -0.34271452],\n",
       "       [-0.71984421, -1.47852199,  1.05712223, -0.46063877],\n",
       "       [ 0.54256004, -0.46947439, -0.46572975, -0.46341769]])"
      ]
     },
     "metadata": {},
     "output_type": "display_data"
    },
    {
     "data": {
      "text/plain": [
       "array([-201.42348529,   55.01512109,   98.50233564,  108.44325693,\n",
       "        -98.42574697, -132.06975033,  260.37878851,  -11.46177441,\n",
       "         -9.76972843,  -45.30132996,   45.11987851,  302.30210595,\n",
       "         89.36756994,  -87.67084818,   25.22917392, -226.78603055,\n",
       "       -112.6428451 ,   22.04295716,  171.69681701,   -5.23980118,\n",
       "        152.21031897, -163.86709178,  116.71831939, -275.09211067,\n",
       "         22.77705068,  299.10909296, -199.07464079, -128.95853436,\n",
       "         66.99653404,  -67.16347752,  111.26707471,  170.54175622,\n",
       "       -152.07142206,   69.06492335,   26.23621154, -148.29405234,\n",
       "         48.54534548,  -13.13593296,  -16.10984285,   36.34512573,\n",
       "       -222.93693663, -116.35728776,  120.8347961 ,  195.98475913,\n",
       "        -10.31492204, -106.18619309, -216.12065089, -228.79136805,\n",
       "       -133.30173933,  -60.86663698])"
      ]
     },
     "metadata": {},
     "output_type": "display_data"
    }
   ],
   "source": [
    "X, y, coeffs = make_regression(n_samples=50, n_features=4, n_informative=4, noise=10, coef=True, random_state=42)\n",
    "display(X, y)"
   ]
  },
  {
   "cell_type": "code",
   "execution_count": 4,
   "metadata": {},
   "outputs": [
    {
     "data": {
      "text/plain": [
       "array([74.07686178, 87.73730719, 70.2484084 , 69.7015741 ])"
      ]
     },
     "execution_count": 4,
     "metadata": {},
     "output_type": "execute_result"
    }
   ],
   "source": [
    "coeffs"
   ]
  },
  {
   "cell_type": "code",
   "execution_count": 5,
   "metadata": {},
   "outputs": [
    {
     "data": {
      "text/plain": [
       "((50, 4), (4,))"
      ]
     },
     "execution_count": 5,
     "metadata": {},
     "output_type": "execute_result"
    }
   ],
   "source": [
    "X.shape, coeffs.shape"
   ]
  },
  {
   "attachments": {},
   "cell_type": "markdown",
   "metadata": {},
   "source": [
    "## Create gradient descent class"
   ]
  },
  {
   "cell_type": "code",
   "execution_count": 6,
   "metadata": {},
   "outputs": [],
   "source": [
    "def calculate_matrix_loss(X: np.ndarray, w: np.ndarray, y: np.ndarray) -> float:\n",
    "        return np.sum((y - (X @ w)) ** 2) / 2\n",
    "\n",
    "class GradientDescent:\n",
    "    def __init__(self, dimension: int, learning_rate: float = 1e-2, iteration: int = 10000, eps: float = 1e-4) -> None:\n",
    "        self.w: np.ndarray = np.random.rand(dimension)\n",
    "        self.learning_rate: float = learning_rate\n",
    "        self.iteration: int = iteration\n",
    "        self.eps: float = eps\n",
    "\n",
    "    def calculate_loss(self, X: np.ndarray, y: np.ndarray) -> float:\n",
    "        return (y - (X @ self.w)) @ (-X)\n",
    "\n",
    "    def calculate_gradient(self, X: np.ndarray, y: np.ndarray) -> np.ndarray:\n",
    "        return self.w - self.learning_rate * self.calculate_loss(X, y)\n",
    "\n",
    "    def run(self, X: np.ndarray, y: np.ndarray) -> tuple:\n",
    "        # matrix_loss = None\n",
    "        next_w = self.w\n",
    "        logs = pd.DataFrame(columns=['current-weights', 'next-weights', 'loss'])\n",
    "        for i in np.arange(self.iteration):\n",
    "            self.w = next_w\n",
    "            next_w = self.calculate_gradient(X, y)\n",
    "            # if calculate_matrix_loss(X, next_w, y) <= self.eps:\n",
    "            #     break\n",
    "            log = pd.DataFrame([[self.w, next_w, calculate_matrix_loss(X, self.w, y)]], columns=['current-weights', 'next-weights', 'loss'])\n",
    "            logs = pd.concat([logs, log], sort=False, ignore_index=True)\n",
    "            if np.linalg.norm(self.w - next_w, ord=2) <= self.eps:\n",
    "                break\n",
    "        return (self.w, logs)"
   ]
  },
  {
   "attachments": {},
   "cell_type": "markdown",
   "metadata": {},
   "source": [
    "## Create linear regression class"
   ]
  },
  {
   "cell_type": "code",
   "execution_count": 7,
   "metadata": {},
   "outputs": [],
   "source": [
    "class LinearRegression:\n",
    "    def __init__(self, iteration: int = 10000, eps: float = 1e-4) -> None:\n",
    "        self.iteration: int = iteration\n",
    "        self.eps: float = eps\n",
    "        self.w = None\n",
    "        self.logs = None\n",
    "        self.loss: float = 0\n",
    "\n",
    "    def fit(self, X: np.ndarray, y: np.ndarray) -> None:\n",
    "        # add a dummy feature\n",
    "        X = np.column_stack([X, np.ones(X.shape[0])])\n",
    "        descent = GradientDescent(dimension=X.shape[1], learning_rate=1e-2, iteration=self.iteration, eps=self.eps)\n",
    "        self.w, self.logs = descent.run(X, y)\n",
    "        self.loss = calculate_matrix_loss(X, self.w, y)\n",
    "    \n",
    "    def predict(self, X: np.ndarray) -> np.ndarray:\n",
    "        return X @ self.w[:-1] + self.w[-1]\n",
    "        \n",
    "               "
   ]
  },
  {
   "attachments": {},
   "cell_type": "markdown",
   "metadata": {},
   "source": [
    "## Split and train data"
   ]
  },
  {
   "cell_type": "code",
   "execution_count": 8,
   "metadata": {},
   "outputs": [],
   "source": [
    "from sklearn.model_selection import train_test_split"
   ]
  },
  {
   "cell_type": "code",
   "execution_count": 9,
   "metadata": {},
   "outputs": [],
   "source": [
    "X_train, X_test, y_train, y_test = train_test_split(X, y, test_size=0.2, random_state=42)"
   ]
  },
  {
   "cell_type": "code",
   "execution_count": 16,
   "metadata": {},
   "outputs": [],
   "source": [
    "regressor = LinearRegression()\n",
    "regressor.fit(X_train, y_train)\n"
   ]
  },
  {
   "cell_type": "code",
   "execution_count": 17,
   "metadata": {},
   "outputs": [
    {
     "data": {
      "text/html": [
       "<div>\n",
       "<style scoped>\n",
       "    .dataframe tbody tr th:only-of-type {\n",
       "        vertical-align: middle;\n",
       "    }\n",
       "\n",
       "    .dataframe tbody tr th {\n",
       "        vertical-align: top;\n",
       "    }\n",
       "\n",
       "    .dataframe thead th {\n",
       "        text-align: right;\n",
       "    }\n",
       "</style>\n",
       "<table border=\"1\" class=\"dataframe\">\n",
       "  <thead>\n",
       "    <tr style=\"text-align: right;\">\n",
       "      <th></th>\n",
       "      <th>current-weights</th>\n",
       "      <th>next-weights</th>\n",
       "      <th>loss</th>\n",
       "    </tr>\n",
       "  </thead>\n",
       "  <tbody>\n",
       "    <tr>\n",
       "      <th>53</th>\n",
       "      <td>[73.55055054677165, 91.8625814699786, 68.74280...</td>\n",
       "      <td>[73.55058005236201, 91.86277776806166, 68.7427...</td>\n",
       "      <td>2305.121938</td>\n",
       "    </tr>\n",
       "    <tr>\n",
       "      <th>54</th>\n",
       "      <td>[73.55058005236201, 91.86277776806166, 68.7427...</td>\n",
       "      <td>[73.55060383310763, 91.86293622568779, 68.7427...</td>\n",
       "      <td>2305.121934</td>\n",
       "    </tr>\n",
       "    <tr>\n",
       "      <th>55</th>\n",
       "      <td>[73.55060383310763, 91.86293622568779, 68.7427...</td>\n",
       "      <td>[73.55062300205842, 91.86306413688287, 68.7427...</td>\n",
       "      <td>2305.121932</td>\n",
       "    </tr>\n",
       "    <tr>\n",
       "      <th>56</th>\n",
       "      <td>[73.55062300205842, 91.86306413688287, 68.7427...</td>\n",
       "      <td>[73.550638455275, 91.86316738982435, 68.742679...</td>\n",
       "      <td>2305.121930</td>\n",
       "    </tr>\n",
       "    <tr>\n",
       "      <th>57</th>\n",
       "      <td>[73.550638455275, 91.86316738982435, 68.742679...</td>\n",
       "      <td>[73.55065091428067, 91.86325073777044, 68.7426...</td>\n",
       "      <td>2305.121929</td>\n",
       "    </tr>\n",
       "  </tbody>\n",
       "</table>\n",
       "</div>"
      ],
      "text/plain": [
       "                                      current-weights  \\\n",
       "53  [73.55055054677165, 91.8625814699786, 68.74280...   \n",
       "54  [73.55058005236201, 91.86277776806166, 68.7427...   \n",
       "55  [73.55060383310763, 91.86293622568779, 68.7427...   \n",
       "56  [73.55062300205842, 91.86306413688287, 68.7427...   \n",
       "57  [73.550638455275, 91.86316738982435, 68.742679...   \n",
       "\n",
       "                                         next-weights         loss  \n",
       "53  [73.55058005236201, 91.86277776806166, 68.7427...  2305.121938  \n",
       "54  [73.55060383310763, 91.86293622568779, 68.7427...  2305.121934  \n",
       "55  [73.55062300205842, 91.86306413688287, 68.7427...  2305.121932  \n",
       "56  [73.550638455275, 91.86316738982435, 68.742679...  2305.121930  \n",
       "57  [73.55065091428067, 91.86325073777044, 68.7426...  2305.121929  "
      ]
     },
     "execution_count": 17,
     "metadata": {},
     "output_type": "execute_result"
    }
   ],
   "source": [
    "regressor.logs.tail(5)"
   ]
  },
  {
   "attachments": {},
   "cell_type": "markdown",
   "metadata": {},
   "source": [
    "## Prediction wooooah"
   ]
  },
  {
   "cell_type": "code",
   "execution_count": 22,
   "metadata": {},
   "outputs": [
    {
     "name": "stdout",
     "output_type": "stream",
     "text": [
      "Prediction: [ -91.37480966   41.43945148  111.52998559  -90.52563846   32.66790294\n",
      " -145.02580714 -198.68155456  279.34465311 -125.39002788   -5.82709601]\n",
      "Original: [ -87.67084818   36.34512573  111.26707471 -106.18619309   22.04295716\n",
      " -133.30173933 -199.07464079  299.10909296 -152.07142206   -5.23980118]\n",
      "Loss: 2305.121928781654\n"
     ]
    }
   ],
   "source": [
    "print(f\"Prediction: {regressor.predict(X_test)}\\nOriginal: {y_test}\\nLoss: {regressor.loss}\")"
   ]
  }
 ],
 "metadata": {
  "kernelspec": {
   "display_name": "Python 3",
   "language": "python",
   "name": "python3"
  },
  "language_info": {
   "codemirror_mode": {
    "name": "ipython",
    "version": 3
   },
   "file_extension": ".py",
   "mimetype": "text/x-python",
   "name": "python",
   "nbconvert_exporter": "python",
   "pygments_lexer": "ipython3",
   "version": "3.10.6"
  },
  "orig_nbformat": 4,
  "vscode": {
   "interpreter": {
    "hash": "916dbcbb3f70747c44a77c7bcd40155683ae19c65e1c03b4aa3499c5328201f1"
   }
  }
 },
 "nbformat": 4,
 "nbformat_minor": 2
}
