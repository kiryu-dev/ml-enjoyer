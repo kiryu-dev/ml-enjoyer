{
 "cells": [
  {
   "attachments": {},
   "cell_type": "markdown",
   "metadata": {},
   "source": [
    "## Star Dataset for Stellar Classification using KNN"
   ]
  },
  {
   "cell_type": "code",
   "execution_count": 1,
   "metadata": {},
   "outputs": [],
   "source": [
    "import numpy as np\n",
    "import pandas as pd"
   ]
  },
  {
   "attachments": {},
   "cell_type": "markdown",
   "metadata": {},
   "source": [
    "##### About Data\n",
    "1. Vmag: Visual Apparent Magnitude of the Star¶\n",
    "2. Plx : Distance Between the Star and the Earth\n",
    "3. e_Plx: Standard Error of Plx (Drop the Row if you find the e_Plx is too high!)\n",
    "4. B-V : B-V color index. (A hot star has a B-V color index close to 0 or negative, while a cool star has a B-V color index close to 2.0. Other stars are somewhere in between.)\n",
    "5. SpType: Spectral type\n",
    "6. Amag: Absolute Magnitude of the Star\n",
    "7. TargetClass: Whether the Star is Dwarf (0) or Giant (1)"
   ]
  },
  {
   "cell_type": "code",
   "execution_count": 2,
   "metadata": {},
   "outputs": [
    {
     "data": {
      "text/html": [
       "<div>\n",
       "<style scoped>\n",
       "    .dataframe tbody tr th:only-of-type {\n",
       "        vertical-align: middle;\n",
       "    }\n",
       "\n",
       "    .dataframe tbody tr th {\n",
       "        vertical-align: top;\n",
       "    }\n",
       "\n",
       "    .dataframe thead th {\n",
       "        text-align: right;\n",
       "    }\n",
       "</style>\n",
       "<table border=\"1\" class=\"dataframe\">\n",
       "  <thead>\n",
       "    <tr style=\"text-align: right;\">\n",
       "      <th></th>\n",
       "      <th>Vmag</th>\n",
       "      <th>Plx</th>\n",
       "      <th>e_Plx</th>\n",
       "      <th>B-V</th>\n",
       "      <th>SpType</th>\n",
       "      <th>Amag</th>\n",
       "      <th>TargetClass</th>\n",
       "    </tr>\n",
       "  </thead>\n",
       "  <tbody>\n",
       "    <tr>\n",
       "      <th>0</th>\n",
       "      <td>5.99</td>\n",
       "      <td>13.73</td>\n",
       "      <td>0.58</td>\n",
       "      <td>1.318</td>\n",
       "      <td>K5III</td>\n",
       "      <td>16.678352</td>\n",
       "      <td>0</td>\n",
       "    </tr>\n",
       "    <tr>\n",
       "      <th>1</th>\n",
       "      <td>8.70</td>\n",
       "      <td>2.31</td>\n",
       "      <td>1.29</td>\n",
       "      <td>-0.045</td>\n",
       "      <td>B1II</td>\n",
       "      <td>15.518060</td>\n",
       "      <td>0</td>\n",
       "    </tr>\n",
       "    <tr>\n",
       "      <th>2</th>\n",
       "      <td>5.77</td>\n",
       "      <td>5.50</td>\n",
       "      <td>1.03</td>\n",
       "      <td>0.855</td>\n",
       "      <td>G5III</td>\n",
       "      <td>14.471813</td>\n",
       "      <td>0</td>\n",
       "    </tr>\n",
       "    <tr>\n",
       "      <th>3</th>\n",
       "      <td>6.72</td>\n",
       "      <td>5.26</td>\n",
       "      <td>0.74</td>\n",
       "      <td>-0.015</td>\n",
       "      <td>B7V</td>\n",
       "      <td>15.324928</td>\n",
       "      <td>1</td>\n",
       "    </tr>\n",
       "    <tr>\n",
       "      <th>4</th>\n",
       "      <td>8.76</td>\n",
       "      <td>13.44</td>\n",
       "      <td>1.16</td>\n",
       "      <td>0.584</td>\n",
       "      <td>G0V</td>\n",
       "      <td>19.401997</td>\n",
       "      <td>1</td>\n",
       "    </tr>\n",
       "    <tr>\n",
       "      <th>5</th>\n",
       "      <td>4.90</td>\n",
       "      <td>8.37</td>\n",
       "      <td>0.76</td>\n",
       "      <td>-0.091</td>\n",
       "      <td>B9III</td>\n",
       "      <td>14.513628</td>\n",
       "      <td>0</td>\n",
       "    </tr>\n",
       "    <tr>\n",
       "      <th>6</th>\n",
       "      <td>8.60</td>\n",
       "      <td>5.09</td>\n",
       "      <td>1.37</td>\n",
       "      <td>0.448</td>\n",
       "      <td>F3V</td>\n",
       "      <td>17.133589</td>\n",
       "      <td>1</td>\n",
       "    </tr>\n",
       "    <tr>\n",
       "      <th>7</th>\n",
       "      <td>6.24</td>\n",
       "      <td>8.08</td>\n",
       "      <td>1.15</td>\n",
       "      <td>0.680</td>\n",
       "      <td>G0III</td>\n",
       "      <td>15.777057</td>\n",
       "      <td>0</td>\n",
       "    </tr>\n",
       "  </tbody>\n",
       "</table>\n",
       "</div>"
      ],
      "text/plain": [
       "   Vmag    Plx  e_Plx    B-V SpType       Amag  TargetClass\n",
       "0  5.99  13.73   0.58  1.318  K5III  16.678352            0\n",
       "1  8.70   2.31   1.29 -0.045   B1II  15.518060            0\n",
       "2  5.77   5.50   1.03  0.855  G5III  14.471813            0\n",
       "3  6.72   5.26   0.74 -0.015    B7V  15.324928            1\n",
       "4  8.76  13.44   1.16  0.584    G0V  19.401997            1\n",
       "5  4.90   8.37   0.76 -0.091  B9III  14.513628            0\n",
       "6  8.60   5.09   1.37  0.448    F3V  17.133589            1\n",
       "7  6.24   8.08   1.15  0.680  G0III  15.777057            0"
      ]
     },
     "execution_count": 2,
     "metadata": {},
     "output_type": "execute_result"
    }
   ],
   "source": [
    "data = pd.read_csv(\"Star3642_balanced.csv\")\n",
    "data.head(8)"
   ]
  },
  {
   "cell_type": "code",
   "execution_count": 3,
   "metadata": {},
   "outputs": [
    {
     "name": "stdout",
     "output_type": "stream",
     "text": [
      "<class 'pandas.core.frame.DataFrame'>\n",
      "RangeIndex: 3642 entries, 0 to 3641\n",
      "Data columns (total 7 columns):\n",
      " #   Column       Non-Null Count  Dtype  \n",
      "---  ------       --------------  -----  \n",
      " 0   Vmag         3642 non-null   float64\n",
      " 1   Plx          3642 non-null   float64\n",
      " 2   e_Plx        3642 non-null   float64\n",
      " 3   B-V          3642 non-null   float64\n",
      " 4   SpType       3642 non-null   object \n",
      " 5   Amag         3642 non-null   float64\n",
      " 6   TargetClass  3642 non-null   int64  \n",
      "dtypes: float64(5), int64(1), object(1)\n",
      "memory usage: 199.3+ KB\n"
     ]
    }
   ],
   "source": [
    "data.info()"
   ]
  },
  {
   "cell_type": "code",
   "execution_count": 4,
   "metadata": {},
   "outputs": [
    {
     "data": {
      "text/plain": [
       "Vmag           float64\n",
       "Plx            float64\n",
       "e_Plx          float64\n",
       "B-V            float64\n",
       "SpType          object\n",
       "Amag           float64\n",
       "TargetClass      int64\n",
       "dtype: object"
      ]
     },
     "execution_count": 4,
     "metadata": {},
     "output_type": "execute_result"
    }
   ],
   "source": [
    "data.dtypes"
   ]
  },
  {
   "cell_type": "code",
   "execution_count": 5,
   "metadata": {},
   "outputs": [
    {
     "data": {
      "text/plain": [
       "(3642, 7)"
      ]
     },
     "execution_count": 5,
     "metadata": {},
     "output_type": "execute_result"
    }
   ],
   "source": [
    "data.shape"
   ]
  },
  {
   "cell_type": "code",
   "execution_count": 6,
   "metadata": {},
   "outputs": [
    {
     "data": {
      "text/html": [
       "<div>\n",
       "<style scoped>\n",
       "    .dataframe tbody tr th:only-of-type {\n",
       "        vertical-align: middle;\n",
       "    }\n",
       "\n",
       "    .dataframe tbody tr th {\n",
       "        vertical-align: top;\n",
       "    }\n",
       "\n",
       "    .dataframe thead th {\n",
       "        text-align: right;\n",
       "    }\n",
       "</style>\n",
       "<table border=\"1\" class=\"dataframe\">\n",
       "  <thead>\n",
       "    <tr style=\"text-align: right;\">\n",
       "      <th></th>\n",
       "      <th>Vmag</th>\n",
       "      <th>Plx</th>\n",
       "      <th>e_Plx</th>\n",
       "      <th>B-V</th>\n",
       "      <th>Amag</th>\n",
       "      <th>TargetClass</th>\n",
       "    </tr>\n",
       "  </thead>\n",
       "  <tbody>\n",
       "    <tr>\n",
       "      <th>count</th>\n",
       "      <td>3642.000000</td>\n",
       "      <td>3642.000000</td>\n",
       "      <td>3642.000000</td>\n",
       "      <td>3642.000000</td>\n",
       "      <td>3642.000000</td>\n",
       "      <td>3642.000000</td>\n",
       "    </tr>\n",
       "    <tr>\n",
       "      <th>mean</th>\n",
       "      <td>8.120530</td>\n",
       "      <td>7.606153</td>\n",
       "      <td>1.176568</td>\n",
       "      <td>0.827077</td>\n",
       "      <td>16.427388</td>\n",
       "      <td>0.500000</td>\n",
       "    </tr>\n",
       "    <tr>\n",
       "      <th>std</th>\n",
       "      <td>1.338875</td>\n",
       "      <td>11.924052</td>\n",
       "      <td>0.919999</td>\n",
       "      <td>0.436699</td>\n",
       "      <td>2.428144</td>\n",
       "      <td>0.500069</td>\n",
       "    </tr>\n",
       "    <tr>\n",
       "      <th>min</th>\n",
       "      <td>0.450000</td>\n",
       "      <td>-6.820000</td>\n",
       "      <td>0.470000</td>\n",
       "      <td>-0.196000</td>\n",
       "      <td>2.820000</td>\n",
       "      <td>0.000000</td>\n",
       "    </tr>\n",
       "    <tr>\n",
       "      <th>25%</th>\n",
       "      <td>7.370000</td>\n",
       "      <td>2.740000</td>\n",
       "      <td>0.840000</td>\n",
       "      <td>0.487250</td>\n",
       "      <td>15.150312</td>\n",
       "      <td>0.000000</td>\n",
       "    </tr>\n",
       "    <tr>\n",
       "      <th>50%</th>\n",
       "      <td>8.390000</td>\n",
       "      <td>4.950000</td>\n",
       "      <td>1.040000</td>\n",
       "      <td>0.867000</td>\n",
       "      <td>16.392485</td>\n",
       "      <td>0.500000</td>\n",
       "    </tr>\n",
       "    <tr>\n",
       "      <th>75%</th>\n",
       "      <td>9.060000</td>\n",
       "      <td>8.670000</td>\n",
       "      <td>1.270000</td>\n",
       "      <td>1.136000</td>\n",
       "      <td>18.029836</td>\n",
       "      <td>1.000000</td>\n",
       "    </tr>\n",
       "    <tr>\n",
       "      <th>max</th>\n",
       "      <td>12.490000</td>\n",
       "      <td>280.270000</td>\n",
       "      <td>30.290000</td>\n",
       "      <td>2.530000</td>\n",
       "      <td>29.249165</td>\n",
       "      <td>1.000000</td>\n",
       "    </tr>\n",
       "  </tbody>\n",
       "</table>\n",
       "</div>"
      ],
      "text/plain": [
       "              Vmag          Plx        e_Plx          B-V         Amag  \\\n",
       "count  3642.000000  3642.000000  3642.000000  3642.000000  3642.000000   \n",
       "mean      8.120530     7.606153     1.176568     0.827077    16.427388   \n",
       "std       1.338875    11.924052     0.919999     0.436699     2.428144   \n",
       "min       0.450000    -6.820000     0.470000    -0.196000     2.820000   \n",
       "25%       7.370000     2.740000     0.840000     0.487250    15.150312   \n",
       "50%       8.390000     4.950000     1.040000     0.867000    16.392485   \n",
       "75%       9.060000     8.670000     1.270000     1.136000    18.029836   \n",
       "max      12.490000   280.270000    30.290000     2.530000    29.249165   \n",
       "\n",
       "       TargetClass  \n",
       "count  3642.000000  \n",
       "mean      0.500000  \n",
       "std       0.500069  \n",
       "min       0.000000  \n",
       "25%       0.000000  \n",
       "50%       0.500000  \n",
       "75%       1.000000  \n",
       "max       1.000000  "
      ]
     },
     "execution_count": 6,
     "metadata": {},
     "output_type": "execute_result"
    }
   ],
   "source": [
    "data.describe()"
   ]
  },
  {
   "cell_type": "code",
   "execution_count": 7,
   "metadata": {},
   "outputs": [
    {
     "data": {
      "text/plain": [
       "K0III          293\n",
       "K1III          200\n",
       "K2III          156\n",
       "G8III          135\n",
       "F5V            125\n",
       "              ... \n",
       "B9.5IV           1\n",
       "B0Ibp            1\n",
       "M0V              1\n",
       "B1Vv SB          1\n",
       "M0/M1IIICNp      1\n",
       "Name: SpType, Length: 584, dtype: int64"
      ]
     },
     "execution_count": 7,
     "metadata": {},
     "output_type": "execute_result"
    }
   ],
   "source": [
    "data[\"SpType\"].value_counts()"
   ]
  },
  {
   "cell_type": "code",
   "execution_count": 8,
   "metadata": {},
   "outputs": [
    {
     "data": {
      "text/plain": [
       "Vmag           0\n",
       "Plx            0\n",
       "e_Plx          0\n",
       "B-V            0\n",
       "SpType         0\n",
       "Amag           0\n",
       "TargetClass    0\n",
       "dtype: int64"
      ]
     },
     "execution_count": 8,
     "metadata": {},
     "output_type": "execute_result"
    }
   ],
   "source": [
    "data.isnull().sum()"
   ]
  },
  {
   "attachments": {},
   "cell_type": "markdown",
   "metadata": {},
   "source": [
    "## Boxplots of star data"
   ]
  },
  {
   "cell_type": "code",
   "execution_count": 9,
   "metadata": {},
   "outputs": [
    {
     "data": {
      "text/plain": [
       "Vmag              AxesSubplot(0.125,0.798085;0.133621x0.0819149)\n",
       "Plx            AxesSubplot(0.285345,0.798085;0.133621x0.0819149)\n",
       "e_Plx           AxesSubplot(0.44569,0.798085;0.133621x0.0819149)\n",
       "B-V            AxesSubplot(0.606034,0.798085;0.133621x0.0819149)\n",
       "Amag           AxesSubplot(0.766379,0.798085;0.133621x0.0819149)\n",
       "TargetClass       AxesSubplot(0.125,0.699787;0.133621x0.0819149)\n",
       "dtype: object"
      ]
     },
     "execution_count": 9,
     "metadata": {},
     "output_type": "execute_result"
    },
    {
     "data": {
      "image/png": "[encoded data removed]",
      "text/plain": [
       "<Figure size 1200x2400 with 40 Axes>"
      ]
     },
     "metadata": {},
     "output_type": "display_data"
    }
   ],
   "source": [
    "data.plot(kind='box', subplots=True, layout=(8,5), figsize=(12, 24))"
   ]
  },
  {
   "cell_type": "code",
   "execution_count": 10,
   "metadata": {},
   "outputs": [],
   "source": [
    "data = data[data['Vmag'] < data['Vmag'].quantile(0.9)]\n",
    "data = data[data['Plx'] < data['Plx'].quantile(0.9)]\n",
    "data = data[data['e_Plx'] < data['e_Plx'].quantile(0.9)]\n",
    "data = data[data['B-V'] < data['B-V'].quantile(0.9)]\n",
    "data = data[data['Amag'] < data['Amag'].quantile(0.9)]"
   ]
  },
  {
   "cell_type": "code",
   "execution_count": 11,
   "metadata": {},
   "outputs": [
    {
     "data": {
      "text/plain": [
       "Vmag              AxesSubplot(0.125,0.798085;0.133621x0.0819149)\n",
       "Plx            AxesSubplot(0.285345,0.798085;0.133621x0.0819149)\n",
       "e_Plx           AxesSubplot(0.44569,0.798085;0.133621x0.0819149)\n",
       "B-V            AxesSubplot(0.606034,0.798085;0.133621x0.0819149)\n",
       "Amag           AxesSubplot(0.766379,0.798085;0.133621x0.0819149)\n",
       "TargetClass       AxesSubplot(0.125,0.699787;0.133621x0.0819149)\n",
       "dtype: object"
      ]
     },
     "execution_count": 11,
     "metadata": {},
     "output_type": "execute_result"
    },
    {
     "data": {
      "image/png": "[encoded data removed]",
      "text/plain": [
       "<Figure size 1200x2400 with 40 Axes>"
      ]
     },
     "metadata": {},
     "output_type": "display_data"
    }
   ],
   "source": [
    "data.plot(kind='box', subplots=True, layout=(8,5), figsize=(12, 24))"
   ]
  },
  {
   "cell_type": "code",
   "execution_count": 12,
   "metadata": {},
   "outputs": [
    {
     "data": {
      "text/plain": [
       "(2138, 7)"
      ]
     },
     "execution_count": 12,
     "metadata": {},
     "output_type": "execute_result"
    }
   ],
   "source": [
    "data.shape"
   ]
  },
  {
   "attachments": {},
   "cell_type": "markdown",
   "metadata": {},
   "source": [
    "## Encode SpType values"
   ]
  },
  {
   "cell_type": "code",
   "execution_count": 13,
   "metadata": {},
   "outputs": [
    {
     "data": {
      "text/html": [
       "<div>\n",
       "<style scoped>\n",
       "    .dataframe tbody tr th:only-of-type {\n",
       "        vertical-align: middle;\n",
       "    }\n",
       "\n",
       "    .dataframe tbody tr th {\n",
       "        vertical-align: top;\n",
       "    }\n",
       "\n",
       "    .dataframe thead th {\n",
       "        text-align: right;\n",
       "    }\n",
       "</style>\n",
       "<table border=\"1\" class=\"dataframe\">\n",
       "  <thead>\n",
       "    <tr style=\"text-align: right;\">\n",
       "      <th></th>\n",
       "      <th>Vmag</th>\n",
       "      <th>Plx</th>\n",
       "      <th>e_Plx</th>\n",
       "      <th>B-V</th>\n",
       "      <th>SpType</th>\n",
       "      <th>Amag</th>\n",
       "      <th>TargetClass</th>\n",
       "    </tr>\n",
       "  </thead>\n",
       "  <tbody>\n",
       "    <tr>\n",
       "      <th>0</th>\n",
       "      <td>5.99</td>\n",
       "      <td>13.73</td>\n",
       "      <td>0.58</td>\n",
       "      <td>1.318</td>\n",
       "      <td>394</td>\n",
       "      <td>16.678352</td>\n",
       "      <td>0</td>\n",
       "    </tr>\n",
       "    <tr>\n",
       "      <th>1</th>\n",
       "      <td>8.70</td>\n",
       "      <td>2.31</td>\n",
       "      <td>1.29</td>\n",
       "      <td>-0.045</td>\n",
       "      <td>82</td>\n",
       "      <td>15.518060</td>\n",
       "      <td>0</td>\n",
       "    </tr>\n",
       "    <tr>\n",
       "      <th>2</th>\n",
       "      <td>5.77</td>\n",
       "      <td>5.50</td>\n",
       "      <td>1.03</td>\n",
       "      <td>0.855</td>\n",
       "      <td>255</td>\n",
       "      <td>14.471813</td>\n",
       "      <td>0</td>\n",
       "    </tr>\n",
       "    <tr>\n",
       "      <th>3</th>\n",
       "      <td>6.72</td>\n",
       "      <td>5.26</td>\n",
       "      <td>0.74</td>\n",
       "      <td>-0.015</td>\n",
       "      <td>122</td>\n",
       "      <td>15.324928</td>\n",
       "      <td>1</td>\n",
       "    </tr>\n",
       "    <tr>\n",
       "      <th>5</th>\n",
       "      <td>4.90</td>\n",
       "      <td>8.37</td>\n",
       "      <td>0.76</td>\n",
       "      <td>-0.091</td>\n",
       "      <td>140</td>\n",
       "      <td>14.513628</td>\n",
       "      <td>0</td>\n",
       "    </tr>\n",
       "  </tbody>\n",
       "</table>\n",
       "</div>"
      ],
      "text/plain": [
       "   Vmag    Plx  e_Plx    B-V  SpType       Amag  TargetClass\n",
       "0  5.99  13.73   0.58  1.318     394  16.678352            0\n",
       "1  8.70   2.31   1.29 -0.045      82  15.518060            0\n",
       "2  5.77   5.50   1.03  0.855     255  14.471813            0\n",
       "3  6.72   5.26   0.74 -0.015     122  15.324928            1\n",
       "5  4.90   8.37   0.76 -0.091     140  14.513628            0"
      ]
     },
     "execution_count": 13,
     "metadata": {},
     "output_type": "execute_result"
    }
   ],
   "source": [
    "from sklearn.preprocessing import LabelEncoder\n",
    "\n",
    "data['SpType'] = LabelEncoder().fit_transform(data[\"SpType\"])\n",
    "data.head()"
   ]
  },
  {
   "attachments": {},
   "cell_type": "markdown",
   "metadata": {},
   "source": [
    "## Create KNN class"
   ]
  },
  {
   "cell_type": "code",
   "execution_count": 14,
   "metadata": {},
   "outputs": [],
   "source": [
    "from collections import Counter\n",
    "\n",
    "class KNN:\n",
    "    def __init__(self, neighbors: int = 2) -> None:\n",
    "        self.neighbors = neighbors\n",
    "\n",
    "    def fit(self, X: np.ndarray, y: np.ndarray) -> None:\n",
    "        self.X_train = X\n",
    "        self.y_train = y\n",
    "\n",
    "    def predict(self, X: np.ndarray) -> np.ndarray:\n",
    "        y = list()\n",
    "        for x in X:\n",
    "            distances = [np.linalg.norm(x - x_train) for x_train in self.X_train]\n",
    "            neighbors_labels = [self.y_train[i] for i in np.argsort(distances)[:self.neighbors]]\n",
    "            y.append(Counter(neighbors_labels).most_common(1)[0][0])\n",
    "        return np.array(y)\n",
    "        "
   ]
  },
  {
   "attachments": {},
   "cell_type": "markdown",
   "metadata": {},
   "source": [
    "## Classify stars with KNN"
   ]
  },
  {
   "cell_type": "code",
   "execution_count": 15,
   "metadata": {},
   "outputs": [],
   "source": [
    "from sklearn.model_selection import train_test_split\n",
    "\n",
    "X = data.drop(\"TargetClass\", axis = 1).values\n",
    "y = data[\"TargetClass\"].values "
   ]
  },
  {
   "cell_type": "code",
   "execution_count": 16,
   "metadata": {},
   "outputs": [],
   "source": [
    "X_train, X_test, y_train, y_test = train_test_split(X, y, test_size=0.2, random_state=42)"
   ]
  },
  {
   "cell_type": "code",
   "execution_count": 17,
   "metadata": {},
   "outputs": [
    {
     "data": {
      "text/plain": [
       "(1710, 6)"
      ]
     },
     "execution_count": 17,
     "metadata": {},
     "output_type": "execute_result"
    }
   ],
   "source": [
    "X_train.shape"
   ]
  },
  {
   "cell_type": "code",
   "execution_count": 18,
   "metadata": {},
   "outputs": [
    {
     "data": {
      "text/plain": [
       "(array([0, 1, 1, 0, 0, 0, 0, 0, 1, 0, 0, 1, 0, 1, 1, 1, 0, 0, 1, 0, 1, 0,\n",
       "        0, 0, 1, 0, 0, 0, 1, 1, 0, 1, 1, 1, 0, 1, 0, 0, 1, 1, 0, 0, 0, 0,\n",
       "        0, 1, 0, 0, 0, 0, 1, 1, 0, 0, 1, 0, 0, 0, 0, 0, 0, 0, 0, 1, 1, 0,\n",
       "        1, 0, 0, 1, 1, 0, 0, 0, 0, 0, 1, 0, 1, 0, 1, 0, 0, 0, 0, 1, 0, 1,\n",
       "        0, 0, 0, 0, 0, 0, 0, 0, 1, 0, 0, 0, 0, 0, 1, 0, 0, 1, 0, 0, 1, 0,\n",
       "        1, 0, 0, 0, 0, 0, 1, 1, 1, 1, 1, 0, 0, 0, 0, 1, 1, 0, 1, 0, 1, 0,\n",
       "        0, 0, 0, 0, 1, 1, 1, 1, 1, 1, 1, 1, 0, 0, 0, 0, 0, 1, 0, 1, 0, 0,\n",
       "        1, 1, 1, 0, 0, 1, 1, 0, 1, 1, 0, 0, 1, 0, 0, 1, 0, 1, 0, 1, 0, 0,\n",
       "        0, 1, 0, 0, 0, 0, 0, 0, 0, 0, 0, 0, 1, 1, 1, 1, 0, 1, 0, 0, 0, 0,\n",
       "        0, 0, 0, 0, 0, 1, 0, 0, 0, 1, 0, 0, 0, 1, 0, 1, 0, 0, 0, 0, 0, 1,\n",
       "        0, 1, 0, 1, 0, 0, 0, 0, 0, 1, 0, 0, 0, 0, 0, 0, 1, 1, 0, 0, 0, 1,\n",
       "        0, 0, 0, 0, 0, 0, 1, 1, 1, 0, 0, 0, 0, 0, 1, 0, 0, 0, 1, 0, 1, 1,\n",
       "        0, 0, 0, 1, 0, 1, 1, 0, 0, 0, 0, 0, 0, 0, 0, 1, 1, 0, 0, 0, 1, 0,\n",
       "        1, 1, 0, 0, 0, 1, 0, 0, 1, 0, 1, 0, 0, 0, 0, 0, 0, 1, 0, 0, 0, 1,\n",
       "        0, 0, 1, 1, 0, 0, 0, 1, 0, 0, 1, 0, 0, 1, 0, 1, 0, 1, 0, 0, 1, 1,\n",
       "        1, 0, 1, 1, 1, 1, 0, 0, 0, 0, 0, 0, 0, 0, 0, 1, 0, 1, 0, 0, 0, 1,\n",
       "        1, 1, 0, 0, 1, 0, 0, 0, 0, 0, 1, 0, 0, 0, 0, 1, 0, 1, 1, 1, 0, 0,\n",
       "        0, 0, 0, 1, 0, 0, 1, 1, 1, 1, 0, 1, 0, 0, 0, 1, 0, 1, 0, 0, 0, 1,\n",
       "        0, 0, 0, 0, 1, 0, 0, 0, 0, 0, 0, 0, 1, 1, 0, 1, 0, 0, 1, 1, 0, 0,\n",
       "        0, 1, 0, 1, 0, 1, 0, 0, 1, 0]),\n",
       " array([0, 0, 1, 0, 0, 0, 0, 0, 1, 0, 0, 1, 0, 1, 1, 1, 0, 0, 1, 0, 1, 0,\n",
       "        0, 0, 1, 0, 0, 0, 1, 1, 0, 1, 1, 1, 0, 1, 0, 0, 1, 1, 0, 0, 0, 0,\n",
       "        0, 1, 0, 0, 0, 0, 1, 1, 0, 0, 1, 0, 0, 0, 0, 0, 0, 0, 0, 1, 1, 0,\n",
       "        1, 0, 0, 1, 1, 0, 0, 0, 0, 0, 1, 0, 1, 0, 1, 0, 0, 0, 0, 1, 0, 1,\n",
       "        0, 0, 0, 1, 1, 0, 0, 1, 1, 1, 0, 0, 0, 0, 1, 0, 0, 1, 0, 0, 1, 0,\n",
       "        1, 0, 0, 0, 0, 0, 1, 1, 1, 0, 1, 0, 0, 0, 0, 1, 1, 0, 1, 0, 1, 1,\n",
       "        0, 0, 0, 0, 1, 1, 1, 1, 1, 1, 1, 1, 0, 0, 0, 0, 0, 1, 0, 1, 0, 0,\n",
       "        1, 1, 1, 0, 0, 0, 1, 0, 1, 1, 0, 0, 1, 0, 0, 1, 0, 1, 0, 1, 0, 0,\n",
       "        0, 1, 1, 1, 0, 1, 0, 0, 0, 0, 0, 0, 1, 1, 1, 0, 0, 1, 0, 0, 0, 0,\n",
       "        0, 0, 0, 0, 0, 1, 1, 0, 0, 1, 0, 0, 0, 1, 0, 1, 0, 0, 0, 0, 0, 0,\n",
       "        0, 1, 0, 1, 0, 0, 1, 0, 0, 1, 0, 0, 1, 0, 0, 0, 1, 1, 0, 0, 0, 1,\n",
       "        0, 0, 0, 0, 0, 0, 1, 0, 1, 0, 0, 0, 0, 0, 1, 0, 0, 0, 1, 0, 0, 1,\n",
       "        0, 0, 0, 1, 0, 1, 1, 0, 0, 0, 0, 0, 0, 0, 0, 1, 1, 0, 0, 0, 1, 0,\n",
       "        1, 1, 0, 0, 0, 1, 0, 0, 1, 0, 0, 0, 0, 0, 0, 0, 0, 1, 0, 0, 0, 0,\n",
       "        0, 0, 1, 1, 0, 0, 0, 1, 0, 1, 1, 0, 0, 1, 0, 1, 0, 1, 0, 0, 0, 1,\n",
       "        1, 0, 1, 1, 0, 1, 0, 0, 0, 0, 0, 0, 0, 0, 0, 1, 0, 1, 0, 0, 0, 1,\n",
       "        1, 1, 0, 0, 1, 0, 0, 0, 0, 0, 1, 0, 0, 0, 0, 1, 0, 1, 0, 1, 0, 0,\n",
       "        0, 0, 0, 1, 0, 0, 1, 1, 1, 1, 0, 1, 0, 0, 0, 1, 0, 1, 0, 1, 0, 1,\n",
       "        0, 0, 0, 0, 1, 0, 0, 0, 0, 0, 0, 0, 1, 1, 0, 1, 0, 0, 0, 1, 0, 0,\n",
       "        0, 1, 0, 1, 0, 1, 0, 0, 1, 1]))"
      ]
     },
     "execution_count": 18,
     "metadata": {},
     "output_type": "execute_result"
    }
   ],
   "source": [
    "knn = KNN(2)\n",
    "knn.fit(X_train, y_train)\n",
    "y_pred = knn.predict(X_test)\n",
    "y_pred, y_test"
   ]
  },
  {
   "attachments": {},
   "cell_type": "markdown",
   "metadata": {},
   "source": [
    "## Evaluate the result with the Accuracy metric"
   ]
  },
  {
   "cell_type": "code",
   "execution_count": 19,
   "metadata": {},
   "outputs": [
    {
     "data": {
      "text/plain": [
       "0.9369158878504673"
      ]
     },
     "execution_count": 19,
     "metadata": {},
     "output_type": "execute_result"
    }
   ],
   "source": [
    "from sklearn.metrics import accuracy_score\n",
    "\n",
    "accuracy_score(y_test, y_pred)"
   ]
  }
 ],
 "metadata": {
  "kernelspec": {
   "display_name": "Python 3",
   "language": "python",
   "name": "python3"
  },
  "language_info": {
   "codemirror_mode": {
    "name": "ipython",
    "version": 3
   },
   "file_extension": ".py",
   "mimetype": "text/x-python",
   "name": "python",
   "nbconvert_exporter": "python",
   "pygments_lexer": "ipython3",
   "version": "3.10.6"
  },
  "orig_nbformat": 4
 },
 "nbformat": 4,
 "nbformat_minor": 2
}
